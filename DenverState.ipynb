{
 "cells": [
  {
   "cell_type": "code",
   "execution_count": 1,
   "metadata": {},
   "outputs": [],
   "source": [
    "import pandas as pd\n",
    "import matplotlib.pyplot as plt\n",
    "import numpy as np"
   ]
  },
  {
   "cell_type": "code",
   "execution_count": 2,
   "metadata": {},
   "outputs": [],
   "source": [
    "df = pd.read_csv('crime.csv')"
   ]
  },
  {
   "cell_type": "code",
   "execution_count": 3,
   "metadata": {},
   "outputs": [
    {
     "data": {
      "text/plain": [
       "(507443, 19)"
      ]
     },
     "execution_count": 3,
     "metadata": {},
     "output_type": "execute_result"
    }
   ],
   "source": [
    "df.shape"
   ]
  },
  {
   "cell_type": "code",
   "execution_count": 4,
   "metadata": {},
   "outputs": [
    {
     "data": {
      "text/html": [
       "<div>\n",
       "<style scoped>\n",
       "    .dataframe tbody tr th:only-of-type {\n",
       "        vertical-align: middle;\n",
       "    }\n",
       "\n",
       "    .dataframe tbody tr th {\n",
       "        vertical-align: top;\n",
       "    }\n",
       "\n",
       "    .dataframe thead th {\n",
       "        text-align: right;\n",
       "    }\n",
       "</style>\n",
       "<table border=\"1\" class=\"dataframe\">\n",
       "  <thead>\n",
       "    <tr style=\"text-align: right;\">\n",
       "      <th></th>\n",
       "      <th>INCIDENT_ID</th>\n",
       "      <th>OFFENSE_ID</th>\n",
       "      <th>OFFENSE_CODE</th>\n",
       "      <th>OFFENSE_CODE_EXTENSION</th>\n",
       "      <th>OFFENSE_TYPE_ID</th>\n",
       "      <th>OFFENSE_CATEGORY_ID</th>\n",
       "      <th>FIRST_OCCURRENCE_DATE</th>\n",
       "      <th>LAST_OCCURRENCE_DATE</th>\n",
       "      <th>REPORTED_DATE</th>\n",
       "      <th>INCIDENT_ADDRESS</th>\n",
       "      <th>GEO_X</th>\n",
       "      <th>GEO_Y</th>\n",
       "      <th>GEO_LON</th>\n",
       "      <th>GEO_LAT</th>\n",
       "      <th>DISTRICT_ID</th>\n",
       "      <th>PRECINCT_ID</th>\n",
       "      <th>NEIGHBORHOOD_ID</th>\n",
       "      <th>IS_CRIME</th>\n",
       "      <th>IS_TRAFFIC</th>\n",
       "    </tr>\n",
       "  </thead>\n",
       "  <tbody>\n",
       "    <tr>\n",
       "      <th>0</th>\n",
       "      <td>2016376978</td>\n",
       "      <td>2016376978521300</td>\n",
       "      <td>5213</td>\n",
       "      <td>0</td>\n",
       "      <td>weapon-unlawful-discharge-of</td>\n",
       "      <td>all-other-crimes</td>\n",
       "      <td>6/15/2016 11:31:00 PM</td>\n",
       "      <td>NaN</td>\n",
       "      <td>6/15/2016 11:31:00 PM</td>\n",
       "      <td>NaN</td>\n",
       "      <td>3193983.0</td>\n",
       "      <td>1707251.0</td>\n",
       "      <td>-104.809881</td>\n",
       "      <td>39.773188</td>\n",
       "      <td>5</td>\n",
       "      <td>521</td>\n",
       "      <td>montbello</td>\n",
       "      <td>1</td>\n",
       "      <td>0</td>\n",
       "    </tr>\n",
       "    <tr>\n",
       "      <th>1</th>\n",
       "      <td>20186000994</td>\n",
       "      <td>20186000994239900</td>\n",
       "      <td>2399</td>\n",
       "      <td>0</td>\n",
       "      <td>theft-other</td>\n",
       "      <td>larceny</td>\n",
       "      <td>10/11/2017 12:30:00 PM</td>\n",
       "      <td>10/11/2017 4:55:00 PM</td>\n",
       "      <td>1/29/2018 5:53:00 PM</td>\n",
       "      <td>NaN</td>\n",
       "      <td>3201943.0</td>\n",
       "      <td>1711852.0</td>\n",
       "      <td>-104.781434</td>\n",
       "      <td>39.785649</td>\n",
       "      <td>5</td>\n",
       "      <td>522</td>\n",
       "      <td>gateway-green-valley-ranch</td>\n",
       "      <td>1</td>\n",
       "      <td>0</td>\n",
       "    </tr>\n",
       "    <tr>\n",
       "      <th>2</th>\n",
       "      <td>20166003953</td>\n",
       "      <td>20166003953230500</td>\n",
       "      <td>2305</td>\n",
       "      <td>0</td>\n",
       "      <td>theft-items-from-vehicle</td>\n",
       "      <td>theft-from-motor-vehicle</td>\n",
       "      <td>3/4/2016 8:00:00 PM</td>\n",
       "      <td>4/25/2016 8:00:00 AM</td>\n",
       "      <td>4/26/2016 9:02:00 PM</td>\n",
       "      <td>2932 S JOSEPHINE ST</td>\n",
       "      <td>3152762.0</td>\n",
       "      <td>1667011.0</td>\n",
       "      <td>-104.957381</td>\n",
       "      <td>39.663490</td>\n",
       "      <td>3</td>\n",
       "      <td>314</td>\n",
       "      <td>wellshire</td>\n",
       "      <td>1</td>\n",
       "      <td>0</td>\n",
       "    </tr>\n",
       "    <tr>\n",
       "      <th>3</th>\n",
       "      <td>201872333</td>\n",
       "      <td>201872333239900</td>\n",
       "      <td>2399</td>\n",
       "      <td>0</td>\n",
       "      <td>theft-other</td>\n",
       "      <td>larceny</td>\n",
       "      <td>1/30/2018 7:20:00 PM</td>\n",
       "      <td>NaN</td>\n",
       "      <td>1/30/2018 10:29:00 PM</td>\n",
       "      <td>705 S COLORADO BLVD</td>\n",
       "      <td>3157162.0</td>\n",
       "      <td>1681320.0</td>\n",
       "      <td>-104.941440</td>\n",
       "      <td>39.702698</td>\n",
       "      <td>3</td>\n",
       "      <td>312</td>\n",
       "      <td>belcaro</td>\n",
       "      <td>1</td>\n",
       "      <td>0</td>\n",
       "    </tr>\n",
       "    <tr>\n",
       "      <th>4</th>\n",
       "      <td>2017411405</td>\n",
       "      <td>2017411405230300</td>\n",
       "      <td>2303</td>\n",
       "      <td>0</td>\n",
       "      <td>theft-shoplift</td>\n",
       "      <td>larceny</td>\n",
       "      <td>6/22/2017 8:53:00 PM</td>\n",
       "      <td>NaN</td>\n",
       "      <td>6/23/2017 4:09:00 PM</td>\n",
       "      <td>2810 E 1ST AVE</td>\n",
       "      <td>3153211.0</td>\n",
       "      <td>1686545.0</td>\n",
       "      <td>-104.955370</td>\n",
       "      <td>39.717107</td>\n",
       "      <td>3</td>\n",
       "      <td>311</td>\n",
       "      <td>cherry-creek</td>\n",
       "      <td>1</td>\n",
       "      <td>0</td>\n",
       "    </tr>\n",
       "    <tr>\n",
       "      <th>5</th>\n",
       "      <td>201872837</td>\n",
       "      <td>201872837549900</td>\n",
       "      <td>5499</td>\n",
       "      <td>0</td>\n",
       "      <td>traf-other</td>\n",
       "      <td>all-other-crimes</td>\n",
       "      <td>1/31/2018 12:44:00 AM</td>\n",
       "      <td>NaN</td>\n",
       "      <td>1/31/2018 1:29:00 AM</td>\n",
       "      <td>2100 BLOCK E 17TH AVE</td>\n",
       "      <td>3151310.0</td>\n",
       "      <td>1696020.0</td>\n",
       "      <td>-104.961928</td>\n",
       "      <td>39.743149</td>\n",
       "      <td>6</td>\n",
       "      <td>622</td>\n",
       "      <td>city-park-west</td>\n",
       "      <td>1</td>\n",
       "      <td>0</td>\n",
       "    </tr>\n",
       "    <tr>\n",
       "      <th>6</th>\n",
       "      <td>20186001015</td>\n",
       "      <td>20186001015230400</td>\n",
       "      <td>2304</td>\n",
       "      <td>0</td>\n",
       "      <td>theft-parts-from-vehicle</td>\n",
       "      <td>theft-from-motor-vehicle</td>\n",
       "      <td>6/1/2017 12:15:00 PM</td>\n",
       "      <td>1/26/2018 12:15:00 PM</td>\n",
       "      <td>1/26/2018 12:24:00 PM</td>\n",
       "      <td>995 N FEDERAL BLVD</td>\n",
       "      <td>3133441.0</td>\n",
       "      <td>1692147.0</td>\n",
       "      <td>-105.025543</td>\n",
       "      <td>39.732790</td>\n",
       "      <td>1</td>\n",
       "      <td>122</td>\n",
       "      <td>villa-park</td>\n",
       "      <td>1</td>\n",
       "      <td>0</td>\n",
       "    </tr>\n",
       "    <tr>\n",
       "      <th>7</th>\n",
       "      <td>201870628</td>\n",
       "      <td>201870628570700</td>\n",
       "      <td>5707</td>\n",
       "      <td>0</td>\n",
       "      <td>criminal-trespassing</td>\n",
       "      <td>all-other-crimes</td>\n",
       "      <td>1/30/2018 7:40:00 AM</td>\n",
       "      <td>NaN</td>\n",
       "      <td>1/30/2018 10:33:00 AM</td>\n",
       "      <td>E SPEER BLVD / N GRANT ST</td>\n",
       "      <td>3145202.0</td>\n",
       "      <td>1688799.0</td>\n",
       "      <td>-104.983794</td>\n",
       "      <td>39.723424</td>\n",
       "      <td>3</td>\n",
       "      <td>311</td>\n",
       "      <td>speer</td>\n",
       "      <td>1</td>\n",
       "      <td>0</td>\n",
       "    </tr>\n",
       "  </tbody>\n",
       "</table>\n",
       "</div>"
      ],
      "text/plain": [
       "   INCIDENT_ID         OFFENSE_ID  OFFENSE_CODE  OFFENSE_CODE_EXTENSION  \\\n",
       "0   2016376978   2016376978521300          5213                       0   \n",
       "1  20186000994  20186000994239900          2399                       0   \n",
       "2  20166003953  20166003953230500          2305                       0   \n",
       "3    201872333    201872333239900          2399                       0   \n",
       "4   2017411405   2017411405230300          2303                       0   \n",
       "5    201872837    201872837549900          5499                       0   \n",
       "6  20186001015  20186001015230400          2304                       0   \n",
       "7    201870628    201870628570700          5707                       0   \n",
       "\n",
       "                OFFENSE_TYPE_ID       OFFENSE_CATEGORY_ID  \\\n",
       "0  weapon-unlawful-discharge-of          all-other-crimes   \n",
       "1                   theft-other                   larceny   \n",
       "2      theft-items-from-vehicle  theft-from-motor-vehicle   \n",
       "3                   theft-other                   larceny   \n",
       "4                theft-shoplift                   larceny   \n",
       "5                    traf-other          all-other-crimes   \n",
       "6      theft-parts-from-vehicle  theft-from-motor-vehicle   \n",
       "7          criminal-trespassing          all-other-crimes   \n",
       "\n",
       "    FIRST_OCCURRENCE_DATE   LAST_OCCURRENCE_DATE          REPORTED_DATE  \\\n",
       "0   6/15/2016 11:31:00 PM                    NaN  6/15/2016 11:31:00 PM   \n",
       "1  10/11/2017 12:30:00 PM  10/11/2017 4:55:00 PM   1/29/2018 5:53:00 PM   \n",
       "2     3/4/2016 8:00:00 PM   4/25/2016 8:00:00 AM   4/26/2016 9:02:00 PM   \n",
       "3    1/30/2018 7:20:00 PM                    NaN  1/30/2018 10:29:00 PM   \n",
       "4    6/22/2017 8:53:00 PM                    NaN   6/23/2017 4:09:00 PM   \n",
       "5   1/31/2018 12:44:00 AM                    NaN   1/31/2018 1:29:00 AM   \n",
       "6    6/1/2017 12:15:00 PM  1/26/2018 12:15:00 PM  1/26/2018 12:24:00 PM   \n",
       "7    1/30/2018 7:40:00 AM                    NaN  1/30/2018 10:33:00 AM   \n",
       "\n",
       "            INCIDENT_ADDRESS      GEO_X      GEO_Y     GEO_LON    GEO_LAT  \\\n",
       "0                        NaN  3193983.0  1707251.0 -104.809881  39.773188   \n",
       "1                        NaN  3201943.0  1711852.0 -104.781434  39.785649   \n",
       "2        2932 S JOSEPHINE ST  3152762.0  1667011.0 -104.957381  39.663490   \n",
       "3        705 S COLORADO BLVD  3157162.0  1681320.0 -104.941440  39.702698   \n",
       "4             2810 E 1ST AVE  3153211.0  1686545.0 -104.955370  39.717107   \n",
       "5      2100 BLOCK E 17TH AVE  3151310.0  1696020.0 -104.961928  39.743149   \n",
       "6         995 N FEDERAL BLVD  3133441.0  1692147.0 -105.025543  39.732790   \n",
       "7  E SPEER BLVD / N GRANT ST  3145202.0  1688799.0 -104.983794  39.723424   \n",
       "\n",
       "   DISTRICT_ID  PRECINCT_ID             NEIGHBORHOOD_ID  IS_CRIME  IS_TRAFFIC  \n",
       "0            5          521                   montbello         1           0  \n",
       "1            5          522  gateway-green-valley-ranch         1           0  \n",
       "2            3          314                   wellshire         1           0  \n",
       "3            3          312                     belcaro         1           0  \n",
       "4            3          311                cherry-creek         1           0  \n",
       "5            6          622              city-park-west         1           0  \n",
       "6            1          122                  villa-park         1           0  \n",
       "7            3          311                       speer         1           0  "
      ]
     },
     "execution_count": 4,
     "metadata": {},
     "output_type": "execute_result"
    }
   ],
   "source": [
    "df.head(8)"
   ]
  },
  {
   "cell_type": "code",
   "execution_count": 5,
   "metadata": {},
   "outputs": [
    {
     "name": "stdout",
     "output_type": "stream",
     "text": [
      "<class 'pandas.core.frame.DataFrame'>\n",
      "RangeIndex: 507443 entries, 0 to 507442\n",
      "Data columns (total 19 columns):\n",
      "INCIDENT_ID               507443 non-null int64\n",
      "OFFENSE_ID                507443 non-null int64\n",
      "OFFENSE_CODE              507443 non-null int64\n",
      "OFFENSE_CODE_EXTENSION    507443 non-null int64\n",
      "OFFENSE_TYPE_ID           507443 non-null object\n",
      "OFFENSE_CATEGORY_ID       507443 non-null object\n",
      "FIRST_OCCURRENCE_DATE     507443 non-null object\n",
      "LAST_OCCURRENCE_DATE      160658 non-null object\n",
      "REPORTED_DATE             507443 non-null object\n",
      "INCIDENT_ADDRESS          457870 non-null object\n",
      "GEO_X                     503263 non-null float64\n",
      "GEO_Y                     503263 non-null float64\n",
      "GEO_LON                   503263 non-null float64\n",
      "GEO_LAT                   503263 non-null float64\n",
      "DISTRICT_ID               507443 non-null int64\n",
      "PRECINCT_ID               507443 non-null int64\n",
      "NEIGHBORHOOD_ID           507443 non-null object\n",
      "IS_CRIME                  507443 non-null int64\n",
      "IS_TRAFFIC                507443 non-null int64\n",
      "dtypes: float64(4), int64(8), object(7)\n",
      "memory usage: 73.6+ MB\n"
     ]
    }
   ],
   "source": [
    "df.info()"
   ]
  },
  {
   "cell_type": "code",
   "execution_count": 6,
   "metadata": {},
   "outputs": [],
   "source": [
    "df.FIRST_OCCURRENCE_DATE = pd.to_datetime(df.FIRST_OCCURRENCE_DATE)\n",
    "df.LAST_OCCURRENCE_DATE = pd.to_datetime(df.LAST_OCCURRENCE_DATE)\n",
    "df.REPORTED_DATE = pd.to_datetime(df.REPORTED_DATE)\n",
    "#time = df[['FIRST_OCCURRENCE_DATE','LAST_OCCURRENCE_DATE','REPORTED_DATE']]\n",
    "co_ordinates = df[['GEO_X','GEO_Y','GEO_LON','GEO_LAT']]"
   ]
  },
  {
   "cell_type": "code",
   "execution_count": 7,
   "metadata": {},
   "outputs": [
    {
     "data": {
      "text/html": [
       "<div>\n",
       "<style scoped>\n",
       "    .dataframe tbody tr th:only-of-type {\n",
       "        vertical-align: middle;\n",
       "    }\n",
       "\n",
       "    .dataframe tbody tr th {\n",
       "        vertical-align: top;\n",
       "    }\n",
       "\n",
       "    .dataframe thead th {\n",
       "        text-align: right;\n",
       "    }\n",
       "</style>\n",
       "<table border=\"1\" class=\"dataframe\">\n",
       "  <thead>\n",
       "    <tr style=\"text-align: right;\">\n",
       "      <th></th>\n",
       "      <th>INCIDENT_ID</th>\n",
       "      <th>OFFENSE_ID</th>\n",
       "      <th>OFFENSE_CODE</th>\n",
       "      <th>OFFENSE_CODE_EXTENSION</th>\n",
       "      <th>OFFENSE_TYPE_ID</th>\n",
       "      <th>OFFENSE_CATEGORY_ID</th>\n",
       "      <th>FIRST_OCCURRENCE_DATE</th>\n",
       "      <th>LAST_OCCURRENCE_DATE</th>\n",
       "      <th>REPORTED_DATE</th>\n",
       "      <th>INCIDENT_ADDRESS</th>\n",
       "      <th>GEO_X</th>\n",
       "      <th>GEO_Y</th>\n",
       "      <th>GEO_LON</th>\n",
       "      <th>GEO_LAT</th>\n",
       "      <th>DISTRICT_ID</th>\n",
       "      <th>PRECINCT_ID</th>\n",
       "      <th>NEIGHBORHOOD_ID</th>\n",
       "      <th>IS_CRIME</th>\n",
       "      <th>IS_TRAFFIC</th>\n",
       "    </tr>\n",
       "  </thead>\n",
       "  <tbody>\n",
       "    <tr>\n",
       "      <th>0</th>\n",
       "      <td>2016376978</td>\n",
       "      <td>2016376978521300</td>\n",
       "      <td>5213</td>\n",
       "      <td>0</td>\n",
       "      <td>weapon-unlawful-discharge-of</td>\n",
       "      <td>all-other-crimes</td>\n",
       "      <td>2016-06-15 23:31:00</td>\n",
       "      <td>NaT</td>\n",
       "      <td>2016-06-15 23:31:00</td>\n",
       "      <td>NaN</td>\n",
       "      <td>3193983.0</td>\n",
       "      <td>1707251.0</td>\n",
       "      <td>-104.809881</td>\n",
       "      <td>39.773188</td>\n",
       "      <td>5</td>\n",
       "      <td>521</td>\n",
       "      <td>montbello</td>\n",
       "      <td>1</td>\n",
       "      <td>0</td>\n",
       "    </tr>\n",
       "    <tr>\n",
       "      <th>1</th>\n",
       "      <td>20186000994</td>\n",
       "      <td>20186000994239900</td>\n",
       "      <td>2399</td>\n",
       "      <td>0</td>\n",
       "      <td>theft-other</td>\n",
       "      <td>larceny</td>\n",
       "      <td>2017-10-11 12:30:00</td>\n",
       "      <td>2017-10-11 16:55:00</td>\n",
       "      <td>2018-01-29 17:53:00</td>\n",
       "      <td>NaN</td>\n",
       "      <td>3201943.0</td>\n",
       "      <td>1711852.0</td>\n",
       "      <td>-104.781434</td>\n",
       "      <td>39.785649</td>\n",
       "      <td>5</td>\n",
       "      <td>522</td>\n",
       "      <td>gateway-green-valley-ranch</td>\n",
       "      <td>1</td>\n",
       "      <td>0</td>\n",
       "    </tr>\n",
       "    <tr>\n",
       "      <th>2</th>\n",
       "      <td>20166003953</td>\n",
       "      <td>20166003953230500</td>\n",
       "      <td>2305</td>\n",
       "      <td>0</td>\n",
       "      <td>theft-items-from-vehicle</td>\n",
       "      <td>theft-from-motor-vehicle</td>\n",
       "      <td>2016-03-04 20:00:00</td>\n",
       "      <td>2016-04-25 08:00:00</td>\n",
       "      <td>2016-04-26 21:02:00</td>\n",
       "      <td>2932 S JOSEPHINE ST</td>\n",
       "      <td>3152762.0</td>\n",
       "      <td>1667011.0</td>\n",
       "      <td>-104.957381</td>\n",
       "      <td>39.663490</td>\n",
       "      <td>3</td>\n",
       "      <td>314</td>\n",
       "      <td>wellshire</td>\n",
       "      <td>1</td>\n",
       "      <td>0</td>\n",
       "    </tr>\n",
       "    <tr>\n",
       "      <th>3</th>\n",
       "      <td>201872333</td>\n",
       "      <td>201872333239900</td>\n",
       "      <td>2399</td>\n",
       "      <td>0</td>\n",
       "      <td>theft-other</td>\n",
       "      <td>larceny</td>\n",
       "      <td>2018-01-30 19:20:00</td>\n",
       "      <td>NaT</td>\n",
       "      <td>2018-01-30 22:29:00</td>\n",
       "      <td>705 S COLORADO BLVD</td>\n",
       "      <td>3157162.0</td>\n",
       "      <td>1681320.0</td>\n",
       "      <td>-104.941440</td>\n",
       "      <td>39.702698</td>\n",
       "      <td>3</td>\n",
       "      <td>312</td>\n",
       "      <td>belcaro</td>\n",
       "      <td>1</td>\n",
       "      <td>0</td>\n",
       "    </tr>\n",
       "    <tr>\n",
       "      <th>4</th>\n",
       "      <td>2017411405</td>\n",
       "      <td>2017411405230300</td>\n",
       "      <td>2303</td>\n",
       "      <td>0</td>\n",
       "      <td>theft-shoplift</td>\n",
       "      <td>larceny</td>\n",
       "      <td>2017-06-22 20:53:00</td>\n",
       "      <td>NaT</td>\n",
       "      <td>2017-06-23 16:09:00</td>\n",
       "      <td>2810 E 1ST AVE</td>\n",
       "      <td>3153211.0</td>\n",
       "      <td>1686545.0</td>\n",
       "      <td>-104.955370</td>\n",
       "      <td>39.717107</td>\n",
       "      <td>3</td>\n",
       "      <td>311</td>\n",
       "      <td>cherry-creek</td>\n",
       "      <td>1</td>\n",
       "      <td>0</td>\n",
       "    </tr>\n",
       "    <tr>\n",
       "      <th>5</th>\n",
       "      <td>201872837</td>\n",
       "      <td>201872837549900</td>\n",
       "      <td>5499</td>\n",
       "      <td>0</td>\n",
       "      <td>traf-other</td>\n",
       "      <td>all-other-crimes</td>\n",
       "      <td>2018-01-31 00:44:00</td>\n",
       "      <td>NaT</td>\n",
       "      <td>2018-01-31 01:29:00</td>\n",
       "      <td>2100 BLOCK E 17TH AVE</td>\n",
       "      <td>3151310.0</td>\n",
       "      <td>1696020.0</td>\n",
       "      <td>-104.961928</td>\n",
       "      <td>39.743149</td>\n",
       "      <td>6</td>\n",
       "      <td>622</td>\n",
       "      <td>city-park-west</td>\n",
       "      <td>1</td>\n",
       "      <td>0</td>\n",
       "    </tr>\n",
       "    <tr>\n",
       "      <th>6</th>\n",
       "      <td>20186001015</td>\n",
       "      <td>20186001015230400</td>\n",
       "      <td>2304</td>\n",
       "      <td>0</td>\n",
       "      <td>theft-parts-from-vehicle</td>\n",
       "      <td>theft-from-motor-vehicle</td>\n",
       "      <td>2017-06-01 12:15:00</td>\n",
       "      <td>2018-01-26 12:15:00</td>\n",
       "      <td>2018-01-26 12:24:00</td>\n",
       "      <td>995 N FEDERAL BLVD</td>\n",
       "      <td>3133441.0</td>\n",
       "      <td>1692147.0</td>\n",
       "      <td>-105.025543</td>\n",
       "      <td>39.732790</td>\n",
       "      <td>1</td>\n",
       "      <td>122</td>\n",
       "      <td>villa-park</td>\n",
       "      <td>1</td>\n",
       "      <td>0</td>\n",
       "    </tr>\n",
       "    <tr>\n",
       "      <th>7</th>\n",
       "      <td>201870628</td>\n",
       "      <td>201870628570700</td>\n",
       "      <td>5707</td>\n",
       "      <td>0</td>\n",
       "      <td>criminal-trespassing</td>\n",
       "      <td>all-other-crimes</td>\n",
       "      <td>2018-01-30 07:40:00</td>\n",
       "      <td>NaT</td>\n",
       "      <td>2018-01-30 10:33:00</td>\n",
       "      <td>E SPEER BLVD / N GRANT ST</td>\n",
       "      <td>3145202.0</td>\n",
       "      <td>1688799.0</td>\n",
       "      <td>-104.983794</td>\n",
       "      <td>39.723424</td>\n",
       "      <td>3</td>\n",
       "      <td>311</td>\n",
       "      <td>speer</td>\n",
       "      <td>1</td>\n",
       "      <td>0</td>\n",
       "    </tr>\n",
       "  </tbody>\n",
       "</table>\n",
       "</div>"
      ],
      "text/plain": [
       "   INCIDENT_ID         OFFENSE_ID  OFFENSE_CODE  OFFENSE_CODE_EXTENSION  \\\n",
       "0   2016376978   2016376978521300          5213                       0   \n",
       "1  20186000994  20186000994239900          2399                       0   \n",
       "2  20166003953  20166003953230500          2305                       0   \n",
       "3    201872333    201872333239900          2399                       0   \n",
       "4   2017411405   2017411405230300          2303                       0   \n",
       "5    201872837    201872837549900          5499                       0   \n",
       "6  20186001015  20186001015230400          2304                       0   \n",
       "7    201870628    201870628570700          5707                       0   \n",
       "\n",
       "                OFFENSE_TYPE_ID       OFFENSE_CATEGORY_ID  \\\n",
       "0  weapon-unlawful-discharge-of          all-other-crimes   \n",
       "1                   theft-other                   larceny   \n",
       "2      theft-items-from-vehicle  theft-from-motor-vehicle   \n",
       "3                   theft-other                   larceny   \n",
       "4                theft-shoplift                   larceny   \n",
       "5                    traf-other          all-other-crimes   \n",
       "6      theft-parts-from-vehicle  theft-from-motor-vehicle   \n",
       "7          criminal-trespassing          all-other-crimes   \n",
       "\n",
       "  FIRST_OCCURRENCE_DATE LAST_OCCURRENCE_DATE       REPORTED_DATE  \\\n",
       "0   2016-06-15 23:31:00                  NaT 2016-06-15 23:31:00   \n",
       "1   2017-10-11 12:30:00  2017-10-11 16:55:00 2018-01-29 17:53:00   \n",
       "2   2016-03-04 20:00:00  2016-04-25 08:00:00 2016-04-26 21:02:00   \n",
       "3   2018-01-30 19:20:00                  NaT 2018-01-30 22:29:00   \n",
       "4   2017-06-22 20:53:00                  NaT 2017-06-23 16:09:00   \n",
       "5   2018-01-31 00:44:00                  NaT 2018-01-31 01:29:00   \n",
       "6   2017-06-01 12:15:00  2018-01-26 12:15:00 2018-01-26 12:24:00   \n",
       "7   2018-01-30 07:40:00                  NaT 2018-01-30 10:33:00   \n",
       "\n",
       "            INCIDENT_ADDRESS      GEO_X      GEO_Y     GEO_LON    GEO_LAT  \\\n",
       "0                        NaN  3193983.0  1707251.0 -104.809881  39.773188   \n",
       "1                        NaN  3201943.0  1711852.0 -104.781434  39.785649   \n",
       "2        2932 S JOSEPHINE ST  3152762.0  1667011.0 -104.957381  39.663490   \n",
       "3        705 S COLORADO BLVD  3157162.0  1681320.0 -104.941440  39.702698   \n",
       "4             2810 E 1ST AVE  3153211.0  1686545.0 -104.955370  39.717107   \n",
       "5      2100 BLOCK E 17TH AVE  3151310.0  1696020.0 -104.961928  39.743149   \n",
       "6         995 N FEDERAL BLVD  3133441.0  1692147.0 -105.025543  39.732790   \n",
       "7  E SPEER BLVD / N GRANT ST  3145202.0  1688799.0 -104.983794  39.723424   \n",
       "\n",
       "   DISTRICT_ID  PRECINCT_ID             NEIGHBORHOOD_ID  IS_CRIME  IS_TRAFFIC  \n",
       "0            5          521                   montbello         1           0  \n",
       "1            5          522  gateway-green-valley-ranch         1           0  \n",
       "2            3          314                   wellshire         1           0  \n",
       "3            3          312                     belcaro         1           0  \n",
       "4            3          311                cherry-creek         1           0  \n",
       "5            6          622              city-park-west         1           0  \n",
       "6            1          122                  villa-park         1           0  \n",
       "7            3          311                       speer         1           0  "
      ]
     },
     "execution_count": 7,
     "metadata": {},
     "output_type": "execute_result"
    }
   ],
   "source": [
    "df.head(8)"
   ]
  },
  {
   "cell_type": "code",
   "execution_count": 8,
   "metadata": {},
   "outputs": [
    {
     "name": "stdout",
     "output_type": "stream",
     "text": [
      "<class 'pandas.core.frame.DataFrame'>\n",
      "RangeIndex: 507443 entries, 0 to 507442\n",
      "Data columns (total 19 columns):\n",
      "INCIDENT_ID               507443 non-null int64\n",
      "OFFENSE_ID                507443 non-null int64\n",
      "OFFENSE_CODE              507443 non-null int64\n",
      "OFFENSE_CODE_EXTENSION    507443 non-null int64\n",
      "OFFENSE_TYPE_ID           507443 non-null object\n",
      "OFFENSE_CATEGORY_ID       507443 non-null object\n",
      "FIRST_OCCURRENCE_DATE     507443 non-null datetime64[ns]\n",
      "LAST_OCCURRENCE_DATE      160658 non-null datetime64[ns]\n",
      "REPORTED_DATE             507443 non-null datetime64[ns]\n",
      "INCIDENT_ADDRESS          457870 non-null object\n",
      "GEO_X                     503263 non-null float64\n",
      "GEO_Y                     503263 non-null float64\n",
      "GEO_LON                   503263 non-null float64\n",
      "GEO_LAT                   503263 non-null float64\n",
      "DISTRICT_ID               507443 non-null int64\n",
      "PRECINCT_ID               507443 non-null int64\n",
      "NEIGHBORHOOD_ID           507443 non-null object\n",
      "IS_CRIME                  507443 non-null int64\n",
      "IS_TRAFFIC                507443 non-null int64\n",
      "dtypes: datetime64[ns](3), float64(4), int64(8), object(4)\n",
      "memory usage: 73.6+ MB\n"
     ]
    }
   ],
   "source": [
    "df.info()"
   ]
  },
  {
   "cell_type": "code",
   "execution_count": 9,
   "metadata": {},
   "outputs": [
    {
     "data": {
      "text/plain": [
       "78"
      ]
     },
     "execution_count": 9,
     "metadata": {},
     "output_type": "execute_result"
    }
   ],
   "source": [
    "df.NEIGHBORHOOD_ID.nunique()"
   ]
  },
  {
   "cell_type": "code",
   "execution_count": 10,
   "metadata": {},
   "outputs": [
    {
     "data": {
      "text/plain": [
       "3    112346\n",
       "6    101977\n",
       "1     89328\n",
       "2     74393\n",
       "4     71807\n",
       "5     51714\n",
       "7      5878\n",
       "Name: DISTRICT_ID, dtype: int64"
      ]
     },
     "execution_count": 10,
     "metadata": {},
     "output_type": "execute_result"
    }
   ],
   "source": [
    "df.DISTRICT_ID.value_counts()"
   ]
  },
  {
   "cell_type": "code",
   "execution_count": 11,
   "metadata": {},
   "outputs": [
    {
     "data": {
      "text/plain": [
       "36"
      ]
     },
     "execution_count": 11,
     "metadata": {},
     "output_type": "execute_result"
    }
   ],
   "source": [
    "df.PRECINCT_ID.nunique()"
   ]
  },
  {
   "cell_type": "code",
   "execution_count": 12,
   "metadata": {},
   "outputs": [],
   "source": [
    "droplist = ['GEO_X','GEO_Y','NEIGHBORHOOD_ID','PRECINCT_ID']\n",
    "\n",
    "df = df.drop(droplist,axis=1)"
   ]
  },
  {
   "cell_type": "code",
   "execution_count": 13,
   "metadata": {},
   "outputs": [
    {
     "data": {
      "text/plain": [
       "(507443, 15)"
      ]
     },
     "execution_count": 13,
     "metadata": {},
     "output_type": "execute_result"
    }
   ],
   "source": [
    "df.shape"
   ]
  },
  {
   "cell_type": "code",
   "execution_count": 15,
   "metadata": {},
   "outputs": [
    {
     "data": {
      "text/html": [
       "<div>\n",
       "<style scoped>\n",
       "    .dataframe tbody tr th:only-of-type {\n",
       "        vertical-align: middle;\n",
       "    }\n",
       "\n",
       "    .dataframe tbody tr th {\n",
       "        vertical-align: top;\n",
       "    }\n",
       "\n",
       "    .dataframe thead th {\n",
       "        text-align: right;\n",
       "    }\n",
       "</style>\n",
       "<table border=\"1\" class=\"dataframe\">\n",
       "  <thead>\n",
       "    <tr style=\"text-align: right;\">\n",
       "      <th></th>\n",
       "      <th>INCIDENT_ID</th>\n",
       "      <th>OFFENSE_ID</th>\n",
       "      <th>OFFENSE_CODE</th>\n",
       "      <th>OFFENSE_CODE_EXTENSION</th>\n",
       "      <th>OFFENSE_TYPE_ID</th>\n",
       "      <th>OFFENSE_CATEGORY_ID</th>\n",
       "      <th>FIRST_OCCURRENCE_DATE</th>\n",
       "      <th>LAST_OCCURRENCE_DATE</th>\n",
       "      <th>REPORTED_DATE</th>\n",
       "      <th>INCIDENT_ADDRESS</th>\n",
       "      <th>GEO_LON</th>\n",
       "      <th>GEO_LAT</th>\n",
       "      <th>DISTRICT_ID</th>\n",
       "      <th>IS_CRIME</th>\n",
       "      <th>IS_TRAFFIC</th>\n",
       "    </tr>\n",
       "  </thead>\n",
       "  <tbody>\n",
       "    <tr>\n",
       "      <th>0</th>\n",
       "      <td>2016376978</td>\n",
       "      <td>2016376978521300</td>\n",
       "      <td>5213</td>\n",
       "      <td>0</td>\n",
       "      <td>weapon-unlawful-discharge-of</td>\n",
       "      <td>all-other-crimes</td>\n",
       "      <td>2016-06-15 23:31:00</td>\n",
       "      <td>NaT</td>\n",
       "      <td>2016-06-15 23:31:00</td>\n",
       "      <td>NaN</td>\n",
       "      <td>-104.809881</td>\n",
       "      <td>39.773188</td>\n",
       "      <td>5</td>\n",
       "      <td>1</td>\n",
       "      <td>0</td>\n",
       "    </tr>\n",
       "    <tr>\n",
       "      <th>1</th>\n",
       "      <td>20186000994</td>\n",
       "      <td>20186000994239900</td>\n",
       "      <td>2399</td>\n",
       "      <td>0</td>\n",
       "      <td>theft-other</td>\n",
       "      <td>larceny</td>\n",
       "      <td>2017-10-11 12:30:00</td>\n",
       "      <td>2017-10-11 16:55:00</td>\n",
       "      <td>2018-01-29 17:53:00</td>\n",
       "      <td>NaN</td>\n",
       "      <td>-104.781434</td>\n",
       "      <td>39.785649</td>\n",
       "      <td>5</td>\n",
       "      <td>1</td>\n",
       "      <td>0</td>\n",
       "    </tr>\n",
       "    <tr>\n",
       "      <th>2</th>\n",
       "      <td>20166003953</td>\n",
       "      <td>20166003953230500</td>\n",
       "      <td>2305</td>\n",
       "      <td>0</td>\n",
       "      <td>theft-items-from-vehicle</td>\n",
       "      <td>theft-from-motor-vehicle</td>\n",
       "      <td>2016-03-04 20:00:00</td>\n",
       "      <td>2016-04-25 08:00:00</td>\n",
       "      <td>2016-04-26 21:02:00</td>\n",
       "      <td>2932 S JOSEPHINE ST</td>\n",
       "      <td>-104.957381</td>\n",
       "      <td>39.663490</td>\n",
       "      <td>3</td>\n",
       "      <td>1</td>\n",
       "      <td>0</td>\n",
       "    </tr>\n",
       "    <tr>\n",
       "      <th>3</th>\n",
       "      <td>201872333</td>\n",
       "      <td>201872333239900</td>\n",
       "      <td>2399</td>\n",
       "      <td>0</td>\n",
       "      <td>theft-other</td>\n",
       "      <td>larceny</td>\n",
       "      <td>2018-01-30 19:20:00</td>\n",
       "      <td>NaT</td>\n",
       "      <td>2018-01-30 22:29:00</td>\n",
       "      <td>705 S COLORADO BLVD</td>\n",
       "      <td>-104.941440</td>\n",
       "      <td>39.702698</td>\n",
       "      <td>3</td>\n",
       "      <td>1</td>\n",
       "      <td>0</td>\n",
       "    </tr>\n",
       "    <tr>\n",
       "      <th>4</th>\n",
       "      <td>2017411405</td>\n",
       "      <td>2017411405230300</td>\n",
       "      <td>2303</td>\n",
       "      <td>0</td>\n",
       "      <td>theft-shoplift</td>\n",
       "      <td>larceny</td>\n",
       "      <td>2017-06-22 20:53:00</td>\n",
       "      <td>NaT</td>\n",
       "      <td>2017-06-23 16:09:00</td>\n",
       "      <td>2810 E 1ST AVE</td>\n",
       "      <td>-104.955370</td>\n",
       "      <td>39.717107</td>\n",
       "      <td>3</td>\n",
       "      <td>1</td>\n",
       "      <td>0</td>\n",
       "    </tr>\n",
       "    <tr>\n",
       "      <th>5</th>\n",
       "      <td>201872837</td>\n",
       "      <td>201872837549900</td>\n",
       "      <td>5499</td>\n",
       "      <td>0</td>\n",
       "      <td>traf-other</td>\n",
       "      <td>all-other-crimes</td>\n",
       "      <td>2018-01-31 00:44:00</td>\n",
       "      <td>NaT</td>\n",
       "      <td>2018-01-31 01:29:00</td>\n",
       "      <td>2100 BLOCK E 17TH AVE</td>\n",
       "      <td>-104.961928</td>\n",
       "      <td>39.743149</td>\n",
       "      <td>6</td>\n",
       "      <td>1</td>\n",
       "      <td>0</td>\n",
       "    </tr>\n",
       "    <tr>\n",
       "      <th>6</th>\n",
       "      <td>20186001015</td>\n",
       "      <td>20186001015230400</td>\n",
       "      <td>2304</td>\n",
       "      <td>0</td>\n",
       "      <td>theft-parts-from-vehicle</td>\n",
       "      <td>theft-from-motor-vehicle</td>\n",
       "      <td>2017-06-01 12:15:00</td>\n",
       "      <td>2018-01-26 12:15:00</td>\n",
       "      <td>2018-01-26 12:24:00</td>\n",
       "      <td>995 N FEDERAL BLVD</td>\n",
       "      <td>-105.025543</td>\n",
       "      <td>39.732790</td>\n",
       "      <td>1</td>\n",
       "      <td>1</td>\n",
       "      <td>0</td>\n",
       "    </tr>\n",
       "    <tr>\n",
       "      <th>7</th>\n",
       "      <td>201870628</td>\n",
       "      <td>201870628570700</td>\n",
       "      <td>5707</td>\n",
       "      <td>0</td>\n",
       "      <td>criminal-trespassing</td>\n",
       "      <td>all-other-crimes</td>\n",
       "      <td>2018-01-30 07:40:00</td>\n",
       "      <td>NaT</td>\n",
       "      <td>2018-01-30 10:33:00</td>\n",
       "      <td>E SPEER BLVD / N GRANT ST</td>\n",
       "      <td>-104.983794</td>\n",
       "      <td>39.723424</td>\n",
       "      <td>3</td>\n",
       "      <td>1</td>\n",
       "      <td>0</td>\n",
       "    </tr>\n",
       "  </tbody>\n",
       "</table>\n",
       "</div>"
      ],
      "text/plain": [
       "   INCIDENT_ID         OFFENSE_ID  OFFENSE_CODE  OFFENSE_CODE_EXTENSION  \\\n",
       "0   2016376978   2016376978521300          5213                       0   \n",
       "1  20186000994  20186000994239900          2399                       0   \n",
       "2  20166003953  20166003953230500          2305                       0   \n",
       "3    201872333    201872333239900          2399                       0   \n",
       "4   2017411405   2017411405230300          2303                       0   \n",
       "5    201872837    201872837549900          5499                       0   \n",
       "6  20186001015  20186001015230400          2304                       0   \n",
       "7    201870628    201870628570700          5707                       0   \n",
       "\n",
       "                OFFENSE_TYPE_ID       OFFENSE_CATEGORY_ID  \\\n",
       "0  weapon-unlawful-discharge-of          all-other-crimes   \n",
       "1                   theft-other                   larceny   \n",
       "2      theft-items-from-vehicle  theft-from-motor-vehicle   \n",
       "3                   theft-other                   larceny   \n",
       "4                theft-shoplift                   larceny   \n",
       "5                    traf-other          all-other-crimes   \n",
       "6      theft-parts-from-vehicle  theft-from-motor-vehicle   \n",
       "7          criminal-trespassing          all-other-crimes   \n",
       "\n",
       "  FIRST_OCCURRENCE_DATE LAST_OCCURRENCE_DATE       REPORTED_DATE  \\\n",
       "0   2016-06-15 23:31:00                  NaT 2016-06-15 23:31:00   \n",
       "1   2017-10-11 12:30:00  2017-10-11 16:55:00 2018-01-29 17:53:00   \n",
       "2   2016-03-04 20:00:00  2016-04-25 08:00:00 2016-04-26 21:02:00   \n",
       "3   2018-01-30 19:20:00                  NaT 2018-01-30 22:29:00   \n",
       "4   2017-06-22 20:53:00                  NaT 2017-06-23 16:09:00   \n",
       "5   2018-01-31 00:44:00                  NaT 2018-01-31 01:29:00   \n",
       "6   2017-06-01 12:15:00  2018-01-26 12:15:00 2018-01-26 12:24:00   \n",
       "7   2018-01-30 07:40:00                  NaT 2018-01-30 10:33:00   \n",
       "\n",
       "            INCIDENT_ADDRESS     GEO_LON    GEO_LAT  DISTRICT_ID  IS_CRIME  \\\n",
       "0                        NaN -104.809881  39.773188            5         1   \n",
       "1                        NaN -104.781434  39.785649            5         1   \n",
       "2        2932 S JOSEPHINE ST -104.957381  39.663490            3         1   \n",
       "3        705 S COLORADO BLVD -104.941440  39.702698            3         1   \n",
       "4             2810 E 1ST AVE -104.955370  39.717107            3         1   \n",
       "5      2100 BLOCK E 17TH AVE -104.961928  39.743149            6         1   \n",
       "6         995 N FEDERAL BLVD -105.025543  39.732790            1         1   \n",
       "7  E SPEER BLVD / N GRANT ST -104.983794  39.723424            3         1   \n",
       "\n",
       "   IS_TRAFFIC  \n",
       "0           0  \n",
       "1           0  \n",
       "2           0  \n",
       "3           0  \n",
       "4           0  \n",
       "5           0  \n",
       "6           0  \n",
       "7           0  "
      ]
     },
     "execution_count": 15,
     "metadata": {},
     "output_type": "execute_result"
    }
   ],
   "source": [
    "df.head(8)"
   ]
  },
  {
   "cell_type": "code",
   "execution_count": 14,
   "metadata": {},
   "outputs": [
    {
     "data": {
      "text/plain": [
       "469041"
      ]
     },
     "execution_count": 14,
     "metadata": {},
     "output_type": "execute_result"
    }
   ],
   "source": [
    "df.INCIDENT_ID.nunique()"
   ]
  },
  {
   "cell_type": "code",
   "execution_count": 15,
   "metadata": {},
   "outputs": [
    {
     "data": {
      "text/plain": [
       "INCIDENT_ID               469041\n",
       "OFFENSE_ID                507443\n",
       "OFFENSE_CODE                 156\n",
       "OFFENSE_CODE_EXTENSION         6\n",
       "OFFENSE_TYPE_ID              201\n",
       "OFFENSE_CATEGORY_ID           15\n",
       "FIRST_OCCURRENCE_DATE     337147\n",
       "LAST_OCCURRENCE_DATE      117264\n",
       "REPORTED_DATE             426255\n",
       "INCIDENT_ADDRESS           97155\n",
       "GEO_LON                    94757\n",
       "GEO_LAT                    94208\n",
       "DISTRICT_ID                    7\n",
       "IS_CRIME                       2\n",
       "IS_TRAFFIC                     2\n",
       "dtype: int64"
      ]
     },
     "execution_count": 15,
     "metadata": {},
     "output_type": "execute_result"
    }
   ],
   "source": [
    "df.nunique()"
   ]
  },
  {
   "cell_type": "code",
   "execution_count": 16,
   "metadata": {},
   "outputs": [],
   "source": [
    "droplist = ['INCIDENT_ID','OFFENSE_ID']\n",
    "\n",
    "df = df.drop(droplist,axis=1)"
   ]
  },
  {
   "cell_type": "code",
   "execution_count": 17,
   "metadata": {},
   "outputs": [
    {
     "data": {
      "text/plain": [
       "(507443, 13)"
      ]
     },
     "execution_count": 17,
     "metadata": {},
     "output_type": "execute_result"
    }
   ],
   "source": [
    "df.shape"
   ]
  },
  {
   "cell_type": "code",
   "execution_count": 18,
   "metadata": {},
   "outputs": [
    {
     "data": {
      "text/plain": [
       "traffic-accident                131911\n",
       "all-other-crimes                 92012\n",
       "public-disorder                  52841\n",
       "larceny                          51405\n",
       "theft-from-motor-vehicle         38376\n",
       "drug-alcohol                     33392\n",
       "auto-theft                       27025\n",
       "burglary                         25020\n",
       "other-crimes-against-persons     24917\n",
       "aggravated-assault               11988\n",
       "white-collar-crime                6868\n",
       "robbery                           6566\n",
       "sexual-assault                    4186\n",
       "arson                              637\n",
       "murder                             299\n",
       "Name: OFFENSE_CATEGORY_ID, dtype: int64"
      ]
     },
     "execution_count": 18,
     "metadata": {},
     "output_type": "execute_result"
    }
   ],
   "source": [
    "df.OFFENSE_CATEGORY_ID.value_counts()"
   ]
  },
  {
   "cell_type": "code",
   "execution_count": 19,
   "metadata": {},
   "outputs": [
    {
     "data": {
      "image/png": "[encoded data removed]",
      "text/plain": [
       "<Figure size 432x288 with 1 Axes>"
      ]
     },
     "metadata": {
      "needs_background": "light"
     },
     "output_type": "display_data"
    }
   ],
   "source": [
    "df.OFFENSE_CATEGORY_ID.value_counts().sort_values(ascending=False).plot(kind='bar')\n",
    "plt.show()"
   ]
  },
  {
   "cell_type": "code",
   "execution_count": 20,
   "metadata": {},
   "outputs": [],
   "source": [
    "traffic_incident = df.loc[df['OFFENSE_CATEGORY_ID']=='traffic-accident']"
   ]
  },
  {
   "cell_type": "code",
   "execution_count": 21,
   "metadata": {},
   "outputs": [
    {
     "data": {
      "text/html": [
       "<div>\n",
       "<style scoped>\n",
       "    .dataframe tbody tr th:only-of-type {\n",
       "        vertical-align: middle;\n",
       "    }\n",
       "\n",
       "    .dataframe tbody tr th {\n",
       "        vertical-align: top;\n",
       "    }\n",
       "\n",
       "    .dataframe thead th {\n",
       "        text-align: right;\n",
       "    }\n",
       "</style>\n",
       "<table border=\"1\" class=\"dataframe\">\n",
       "  <thead>\n",
       "    <tr style=\"text-align: right;\">\n",
       "      <th></th>\n",
       "      <th>OFFENSE_CODE</th>\n",
       "      <th>OFFENSE_CODE_EXTENSION</th>\n",
       "      <th>OFFENSE_TYPE_ID</th>\n",
       "      <th>OFFENSE_CATEGORY_ID</th>\n",
       "      <th>FIRST_OCCURRENCE_DATE</th>\n",
       "      <th>LAST_OCCURRENCE_DATE</th>\n",
       "      <th>REPORTED_DATE</th>\n",
       "      <th>INCIDENT_ADDRESS</th>\n",
       "      <th>GEO_LON</th>\n",
       "      <th>GEO_LAT</th>\n",
       "      <th>DISTRICT_ID</th>\n",
       "      <th>IS_CRIME</th>\n",
       "      <th>IS_TRAFFIC</th>\n",
       "    </tr>\n",
       "  </thead>\n",
       "  <tbody>\n",
       "    <tr>\n",
       "      <th>8</th>\n",
       "      <td>5401</td>\n",
       "      <td>0</td>\n",
       "      <td>traffic-accident-hit-and-run</td>\n",
       "      <td>traffic-accident</td>\n",
       "      <td>2018-01-30 09:10:00</td>\n",
       "      <td>NaT</td>\n",
       "      <td>2018-01-30 09:17:00</td>\n",
       "      <td>W 13TH AVE / N CHEROKEE ST</td>\n",
       "      <td>-104.991650</td>\n",
       "      <td>39.736863</td>\n",
       "      <td>6</td>\n",
       "      <td>0</td>\n",
       "      <td>1</td>\n",
       "    </tr>\n",
       "    <tr>\n",
       "      <th>19</th>\n",
       "      <td>5441</td>\n",
       "      <td>0</td>\n",
       "      <td>traffic-accident</td>\n",
       "      <td>traffic-accident</td>\n",
       "      <td>2018-01-30 12:38:00</td>\n",
       "      <td>NaT</td>\n",
       "      <td>2018-01-30 12:38:00</td>\n",
       "      <td>N HAVANA ST / I70 HWYWB</td>\n",
       "      <td>-104.865745</td>\n",
       "      <td>39.775833</td>\n",
       "      <td>5</td>\n",
       "      <td>0</td>\n",
       "      <td>1</td>\n",
       "    </tr>\n",
       "    <tr>\n",
       "      <th>21</th>\n",
       "      <td>5441</td>\n",
       "      <td>0</td>\n",
       "      <td>traffic-accident</td>\n",
       "      <td>traffic-accident</td>\n",
       "      <td>2018-01-29 14:16:00</td>\n",
       "      <td>NaT</td>\n",
       "      <td>2018-01-29 15:00:00</td>\n",
       "      <td>E LOWRY BLVD / N YOSEMITE WAY</td>\n",
       "      <td>-104.883909</td>\n",
       "      <td>39.723506</td>\n",
       "      <td>3</td>\n",
       "      <td>0</td>\n",
       "      <td>1</td>\n",
       "    </tr>\n",
       "    <tr>\n",
       "      <th>22</th>\n",
       "      <td>5401</td>\n",
       "      <td>0</td>\n",
       "      <td>traffic-accident-hit-and-run</td>\n",
       "      <td>traffic-accident</td>\n",
       "      <td>2018-01-30 15:45:00</td>\n",
       "      <td>NaT</td>\n",
       "      <td>2018-01-30 17:13:00</td>\n",
       "      <td>29TH ST / WELTON ST</td>\n",
       "      <td>-104.975646</td>\n",
       "      <td>39.756668</td>\n",
       "      <td>2</td>\n",
       "      <td>0</td>\n",
       "      <td>1</td>\n",
       "    </tr>\n",
       "    <tr>\n",
       "      <th>43</th>\n",
       "      <td>5441</td>\n",
       "      <td>0</td>\n",
       "      <td>traffic-accident</td>\n",
       "      <td>traffic-accident</td>\n",
       "      <td>2018-01-30 16:39:00</td>\n",
       "      <td>NaT</td>\n",
       "      <td>2018-01-30 17:30:00</td>\n",
       "      <td>E 6TH AVE / N IVY LN</td>\n",
       "      <td>-104.920437</td>\n",
       "      <td>39.725338</td>\n",
       "      <td>3</td>\n",
       "      <td>0</td>\n",
       "      <td>1</td>\n",
       "    </tr>\n",
       "  </tbody>\n",
       "</table>\n",
       "</div>"
      ],
      "text/plain": [
       "    OFFENSE_CODE  OFFENSE_CODE_EXTENSION               OFFENSE_TYPE_ID  \\\n",
       "8           5401                       0  traffic-accident-hit-and-run   \n",
       "19          5441                       0              traffic-accident   \n",
       "21          5441                       0              traffic-accident   \n",
       "22          5401                       0  traffic-accident-hit-and-run   \n",
       "43          5441                       0              traffic-accident   \n",
       "\n",
       "   OFFENSE_CATEGORY_ID FIRST_OCCURRENCE_DATE LAST_OCCURRENCE_DATE  \\\n",
       "8     traffic-accident   2018-01-30 09:10:00                  NaT   \n",
       "19    traffic-accident   2018-01-30 12:38:00                  NaT   \n",
       "21    traffic-accident   2018-01-29 14:16:00                  NaT   \n",
       "22    traffic-accident   2018-01-30 15:45:00                  NaT   \n",
       "43    traffic-accident   2018-01-30 16:39:00                  NaT   \n",
       "\n",
       "         REPORTED_DATE               INCIDENT_ADDRESS     GEO_LON    GEO_LAT  \\\n",
       "8  2018-01-30 09:17:00     W 13TH AVE / N CHEROKEE ST -104.991650  39.736863   \n",
       "19 2018-01-30 12:38:00        N HAVANA ST / I70 HWYWB -104.865745  39.775833   \n",
       "21 2018-01-29 15:00:00  E LOWRY BLVD / N YOSEMITE WAY -104.883909  39.723506   \n",
       "22 2018-01-30 17:13:00            29TH ST / WELTON ST -104.975646  39.756668   \n",
       "43 2018-01-30 17:30:00           E 6TH AVE / N IVY LN -104.920437  39.725338   \n",
       "\n",
       "    DISTRICT_ID  IS_CRIME  IS_TRAFFIC  \n",
       "8             6         0           1  \n",
       "19            5         0           1  \n",
       "21            3         0           1  \n",
       "22            2         0           1  \n",
       "43            3         0           1  "
      ]
     },
     "execution_count": 21,
     "metadata": {},
     "output_type": "execute_result"
    }
   ],
   "source": [
    "traffic_incident.head()"
   ]
  },
  {
   "cell_type": "code",
   "execution_count": 22,
   "metadata": {},
   "outputs": [
    {
     "data": {
      "text/plain": [
       "5441    92107\n",
       "5401    35837\n",
       "5420     3967\n",
       "Name: OFFENSE_CODE, dtype: int64"
      ]
     },
     "execution_count": 22,
     "metadata": {},
     "output_type": "execute_result"
    }
   ],
   "source": [
    "traffic_incident.OFFENSE_CODE.value_counts()"
   ]
  },
  {
   "cell_type": "code",
   "execution_count": 23,
   "metadata": {},
   "outputs": [
    {
     "data": {
      "text/plain": [
       "(131911, 13)"
      ]
     },
     "execution_count": 23,
     "metadata": {},
     "output_type": "execute_result"
    }
   ],
   "source": [
    "traffic_incident.shape"
   ]
  },
  {
   "cell_type": "code",
   "execution_count": 24,
   "metadata": {},
   "outputs": [
    {
     "data": {
      "text/plain": [
       "131510"
      ]
     },
     "execution_count": 24,
     "metadata": {},
     "output_type": "execute_result"
    }
   ],
   "source": [
    "traffic_incident.LAST_OCCURRENCE_DATE.isnull().sum()"
   ]
  },
  {
   "cell_type": "code",
   "execution_count": 25,
   "metadata": {},
   "outputs": [
    {
     "data": {
      "text/plain": [
       "OFFENSE_CODE                   3\n",
       "OFFENSE_CODE_EXTENSION         1\n",
       "OFFENSE_TYPE_ID                3\n",
       "OFFENSE_CATEGORY_ID            1\n",
       "FIRST_OCCURRENCE_DATE     124644\n",
       "LAST_OCCURRENCE_DATE         399\n",
       "REPORTED_DATE             127545\n",
       "INCIDENT_ADDRESS           27461\n",
       "GEO_LON                    24336\n",
       "GEO_LAT                    24096\n",
       "DISTRICT_ID                    7\n",
       "IS_CRIME                       1\n",
       "IS_TRAFFIC                     1\n",
       "dtype: int64"
      ]
     },
     "execution_count": 25,
     "metadata": {},
     "output_type": "execute_result"
    }
   ],
   "source": [
    "traffic_incident.nunique()"
   ]
  },
  {
   "cell_type": "code",
   "execution_count": 26,
   "metadata": {},
   "outputs": [],
   "source": [
    "droplist = ['OFFENSE_CATEGORY_ID','LAST_OCCURRENCE_DATE','IS_CRIME','OFFENSE_CODE_EXTENSION','IS_TRAFFIC']\n",
    "\n",
    "traffic_incident = traffic_incident.drop(droplist,axis=1)"
   ]
  },
  {
   "cell_type": "code",
   "execution_count": 27,
   "metadata": {},
   "outputs": [
    {
     "data": {
      "text/plain": [
       "(131911, 8)"
      ]
     },
     "execution_count": 27,
     "metadata": {},
     "output_type": "execute_result"
    }
   ],
   "source": [
    "traffic_incident.shape"
   ]
  },
  {
   "cell_type": "code",
   "execution_count": 28,
   "metadata": {},
   "outputs": [
    {
     "data": {
      "text/plain": [
       "OFFENSE_CODE                  3\n",
       "OFFENSE_TYPE_ID               3\n",
       "FIRST_OCCURRENCE_DATE    124644\n",
       "REPORTED_DATE            127545\n",
       "INCIDENT_ADDRESS          27461\n",
       "GEO_LON                   24336\n",
       "GEO_LAT                   24096\n",
       "DISTRICT_ID                   7\n",
       "dtype: int64"
      ]
     },
     "execution_count": 28,
     "metadata": {},
     "output_type": "execute_result"
    }
   ],
   "source": [
    "traffic_incident.nunique()"
   ]
  },
  {
   "cell_type": "code",
   "execution_count": 29,
   "metadata": {},
   "outputs": [
    {
     "data": {
      "text/plain": [
       "traffic-accident                92107\n",
       "traffic-accident-hit-and-run    35837\n",
       "traffic-accident-dui-duid        3967\n",
       "Name: OFFENSE_TYPE_ID, dtype: int64"
      ]
     },
     "execution_count": 29,
     "metadata": {},
     "output_type": "execute_result"
    }
   ],
   "source": [
    "traffic_incident.OFFENSE_TYPE_ID.value_counts()"
   ]
  },
  {
   "cell_type": "code",
   "execution_count": 30,
   "metadata": {},
   "outputs": [
    {
     "name": "stderr",
     "output_type": "stream",
     "text": [
      "C:\\Users\\vipul\\Anaconda3\\lib\\site-packages\\ipykernel_launcher.py:2: SettingWithCopyWarning: \n",
      "A value is trying to be set on a copy of a slice from a DataFrame\n",
      "\n",
      "See the caveats in the documentation: http://pandas.pydata.org/pandas-docs/stable/indexing.html#indexing-view-versus-copy\n",
      "  \n",
      "C:\\Users\\vipul\\Anaconda3\\lib\\site-packages\\ipykernel_launcher.py:3: SettingWithCopyWarning: \n",
      "A value is trying to be set on a copy of a slice from a DataFrame\n",
      "\n",
      "See the caveats in the documentation: http://pandas.pydata.org/pandas-docs/stable/indexing.html#indexing-view-versus-copy\n",
      "  This is separate from the ipykernel package so we can avoid doing imports until\n"
     ]
    }
   ],
   "source": [
    "traffic_incident['Cause'] = traffic_incident['OFFENSE_CODE'].replace(to_replace = 5441,value = 'Traffic_accident')\n",
    "traffic_incident.Cause[traffic_incident['OFFENSE_CODE'] == 5401] = 'Hit_and_Run'\n",
    "traffic_incident.Cause[traffic_incident['OFFENSE_CODE'] ==5420] = 'Driver_drugged'"
   ]
  },
  {
   "cell_type": "code",
   "execution_count": 31,
   "metadata": {},
   "outputs": [
    {
     "data": {
      "text/plain": [
       "(131911, 9)"
      ]
     },
     "execution_count": 31,
     "metadata": {},
     "output_type": "execute_result"
    }
   ],
   "source": [
    "traffic_incident.shape"
   ]
  },
  {
   "cell_type": "code",
   "execution_count": 32,
   "metadata": {},
   "outputs": [
    {
     "data": {
      "text/plain": [
       "507424    Traffic_accident\n",
       "507426    Traffic_accident\n",
       "507432    Traffic_accident\n",
       "507437         Hit_and_Run\n",
       "507440    Traffic_accident\n",
       "Name: Cause, dtype: object"
      ]
     },
     "execution_count": 32,
     "metadata": {},
     "output_type": "execute_result"
    }
   ],
   "source": [
    "traffic_incident.Cause.tail(5)"
   ]
  },
  {
   "cell_type": "code",
   "execution_count": 33,
   "metadata": {},
   "outputs": [
    {
     "data": {
      "image/png": "[encoded data removed]",
      "text/plain": [
       "<Figure size 432x288 with 1 Axes>"
      ]
     },
     "metadata": {
      "needs_background": "light"
     },
     "output_type": "display_data"
    }
   ],
   "source": [
    "traffic_incident.Cause.value_counts().plot(kind='bar')\n",
    "plt.show()"
   ]
  },
  {
   "cell_type": "code",
   "execution_count": 34,
   "metadata": {},
   "outputs": [],
   "source": [
    "#PlOT map with different traffic incidents acc to GEO_LAN and GEO_LAT using heatmap"
   ]
  },
  {
   "cell_type": "code",
   "execution_count": 35,
   "metadata": {},
   "outputs": [
    {
     "data": {
      "text/plain": [
       "<seaborn.axisgrid.FacetGrid at 0x1f9d2969e48>"
      ]
     },
     "execution_count": 35,
     "metadata": {},
     "output_type": "execute_result"
    },
    {
     "data": {
      "image/png": "[encoded data removed]",
      "text/plain": [
       "<Figure size 475.609x360 with 1 Axes>"
      ]
     },
     "metadata": {
      "needs_background": "light"
     },
     "output_type": "display_data"
    }
   ],
   "source": [
    "import seaborn as sns\n",
    "\n",
    "sns.catplot(x='DISTRICT_ID',kind='count',hue='Cause',data=traffic_incident)"
   ]
  },
  {
   "cell_type": "code",
   "execution_count": 36,
   "metadata": {},
   "outputs": [
    {
     "data": {
      "text/plain": [
       "Cause\n",
       "Driver_drugged       3967\n",
       "Hit_and_Run         35837\n",
       "Traffic_accident    92107\n",
       "Name: FIRST_OCCURRENCE_DATE, dtype: int64"
      ]
     },
     "execution_count": 36,
     "metadata": {},
     "output_type": "execute_result"
    }
   ],
   "source": [
    "cause = traffic_incident.groupby('Cause')['FIRST_OCCURRENCE_DATE'].count()\n",
    "cause.head()"
   ]
  },
  {
   "cell_type": "code",
   "execution_count": 37,
   "metadata": {},
   "outputs": [
    {
     "data": {
      "text/html": [
       "<div>\n",
       "<style scoped>\n",
       "    .dataframe tbody tr th:only-of-type {\n",
       "        vertical-align: middle;\n",
       "    }\n",
       "\n",
       "    .dataframe tbody tr th {\n",
       "        vertical-align: top;\n",
       "    }\n",
       "\n",
       "    .dataframe thead th {\n",
       "        text-align: right;\n",
       "    }\n",
       "</style>\n",
       "<table border=\"1\" class=\"dataframe\">\n",
       "  <thead>\n",
       "    <tr style=\"text-align: right;\">\n",
       "      <th></th>\n",
       "      <th>OFFENSE_CODE</th>\n",
       "      <th>OFFENSE_TYPE_ID</th>\n",
       "      <th>FIRST_OCCURRENCE_DATE</th>\n",
       "      <th>REPORTED_DATE</th>\n",
       "      <th>INCIDENT_ADDRESS</th>\n",
       "      <th>GEO_LON</th>\n",
       "      <th>GEO_LAT</th>\n",
       "      <th>DISTRICT_ID</th>\n",
       "      <th>Cause</th>\n",
       "    </tr>\n",
       "  </thead>\n",
       "  <tbody>\n",
       "    <tr>\n",
       "      <th>8</th>\n",
       "      <td>5401</td>\n",
       "      <td>traffic-accident-hit-and-run</td>\n",
       "      <td>2018-01-30 09:10:00</td>\n",
       "      <td>2018-01-30 09:17:00</td>\n",
       "      <td>W 13TH AVE / N CHEROKEE ST</td>\n",
       "      <td>-104.991650</td>\n",
       "      <td>39.736863</td>\n",
       "      <td>6</td>\n",
       "      <td>Hit_and_Run</td>\n",
       "    </tr>\n",
       "    <tr>\n",
       "      <th>19</th>\n",
       "      <td>5441</td>\n",
       "      <td>traffic-accident</td>\n",
       "      <td>2018-01-30 12:38:00</td>\n",
       "      <td>2018-01-30 12:38:00</td>\n",
       "      <td>N HAVANA ST / I70 HWYWB</td>\n",
       "      <td>-104.865745</td>\n",
       "      <td>39.775833</td>\n",
       "      <td>5</td>\n",
       "      <td>Traffic_accident</td>\n",
       "    </tr>\n",
       "  </tbody>\n",
       "</table>\n",
       "</div>"
      ],
      "text/plain": [
       "    OFFENSE_CODE               OFFENSE_TYPE_ID FIRST_OCCURRENCE_DATE  \\\n",
       "8           5401  traffic-accident-hit-and-run   2018-01-30 09:10:00   \n",
       "19          5441              traffic-accident   2018-01-30 12:38:00   \n",
       "\n",
       "         REPORTED_DATE            INCIDENT_ADDRESS     GEO_LON    GEO_LAT  \\\n",
       "8  2018-01-30 09:17:00  W 13TH AVE / N CHEROKEE ST -104.991650  39.736863   \n",
       "19 2018-01-30 12:38:00     N HAVANA ST / I70 HWYWB -104.865745  39.775833   \n",
       "\n",
       "    DISTRICT_ID             Cause  \n",
       "8             6       Hit_and_Run  \n",
       "19            5  Traffic_accident  "
      ]
     },
     "execution_count": 37,
     "metadata": {},
     "output_type": "execute_result"
    }
   ],
   "source": [
    "traffic_incident.head(2)"
   ]
  },
  {
   "cell_type": "code",
   "execution_count": 38,
   "metadata": {},
   "outputs": [],
   "source": [
    "traffic_incident['Day'] = traffic_incident.FIRST_OCCURRENCE_DATE.dt.day\n",
    "traffic_incident['Month'] = traffic_incident.FIRST_OCCURRENCE_DATE.dt.month\n",
    "traffic_incident['Year'] = traffic_incident.FIRST_OCCURRENCE_DATE.dt.year"
   ]
  },
  {
   "cell_type": "code",
   "execution_count": 39,
   "metadata": {},
   "outputs": [
    {
     "data": {
      "text/html": [
       "<div>\n",
       "<style scoped>\n",
       "    .dataframe tbody tr th:only-of-type {\n",
       "        vertical-align: middle;\n",
       "    }\n",
       "\n",
       "    .dataframe tbody tr th {\n",
       "        vertical-align: top;\n",
       "    }\n",
       "\n",
       "    .dataframe thead th {\n",
       "        text-align: right;\n",
       "    }\n",
       "</style>\n",
       "<table border=\"1\" class=\"dataframe\">\n",
       "  <thead>\n",
       "    <tr style=\"text-align: right;\">\n",
       "      <th></th>\n",
       "      <th>OFFENSE_CODE</th>\n",
       "      <th>OFFENSE_TYPE_ID</th>\n",
       "      <th>FIRST_OCCURRENCE_DATE</th>\n",
       "      <th>REPORTED_DATE</th>\n",
       "      <th>INCIDENT_ADDRESS</th>\n",
       "      <th>GEO_LON</th>\n",
       "      <th>GEO_LAT</th>\n",
       "      <th>DISTRICT_ID</th>\n",
       "      <th>Cause</th>\n",
       "      <th>Day</th>\n",
       "      <th>Month</th>\n",
       "      <th>Year</th>\n",
       "    </tr>\n",
       "  </thead>\n",
       "  <tbody>\n",
       "    <tr>\n",
       "      <th>8</th>\n",
       "      <td>5401</td>\n",
       "      <td>traffic-accident-hit-and-run</td>\n",
       "      <td>2018-01-30 09:10:00</td>\n",
       "      <td>2018-01-30 09:17:00</td>\n",
       "      <td>W 13TH AVE / N CHEROKEE ST</td>\n",
       "      <td>-104.991650</td>\n",
       "      <td>39.736863</td>\n",
       "      <td>6</td>\n",
       "      <td>Hit_and_Run</td>\n",
       "      <td>30</td>\n",
       "      <td>1</td>\n",
       "      <td>2018</td>\n",
       "    </tr>\n",
       "    <tr>\n",
       "      <th>19</th>\n",
       "      <td>5441</td>\n",
       "      <td>traffic-accident</td>\n",
       "      <td>2018-01-30 12:38:00</td>\n",
       "      <td>2018-01-30 12:38:00</td>\n",
       "      <td>N HAVANA ST / I70 HWYWB</td>\n",
       "      <td>-104.865745</td>\n",
       "      <td>39.775833</td>\n",
       "      <td>5</td>\n",
       "      <td>Traffic_accident</td>\n",
       "      <td>30</td>\n",
       "      <td>1</td>\n",
       "      <td>2018</td>\n",
       "    </tr>\n",
       "  </tbody>\n",
       "</table>\n",
       "</div>"
      ],
      "text/plain": [
       "    OFFENSE_CODE               OFFENSE_TYPE_ID FIRST_OCCURRENCE_DATE  \\\n",
       "8           5401  traffic-accident-hit-and-run   2018-01-30 09:10:00   \n",
       "19          5441              traffic-accident   2018-01-30 12:38:00   \n",
       "\n",
       "         REPORTED_DATE            INCIDENT_ADDRESS     GEO_LON    GEO_LAT  \\\n",
       "8  2018-01-30 09:17:00  W 13TH AVE / N CHEROKEE ST -104.991650  39.736863   \n",
       "19 2018-01-30 12:38:00     N HAVANA ST / I70 HWYWB -104.865745  39.775833   \n",
       "\n",
       "    DISTRICT_ID             Cause  Day  Month  Year  \n",
       "8             6       Hit_and_Run   30      1  2018  \n",
       "19            5  Traffic_accident   30      1  2018  "
      ]
     },
     "execution_count": 39,
     "metadata": {},
     "output_type": "execute_result"
    }
   ],
   "source": [
    "traffic_incident.head(2)"
   ]
  },
  {
   "cell_type": "code",
   "execution_count": 40,
   "metadata": {},
   "outputs": [
    {
     "data": {
      "image/png": "[encoded data removed]",
      "text/plain": [
       "<Figure size 432x288 with 1 Axes>"
      ]
     },
     "metadata": {
      "needs_background": "light"
     },
     "output_type": "display_data"
    }
   ],
   "source": [
    "#PlOT map with different traffic incidents acc to incident time\n",
    "traffic_incident.groupby('Year').count()['OFFENSE_CODE'].plot(kind='bar',title='Traffic Incident Per year')\n",
    "plt.show()"
   ]
  },
  {
   "cell_type": "code",
   "execution_count": 41,
   "metadata": {},
   "outputs": [
    {
     "data": {
      "image/png": "[encoded data removed]",
      "text/plain": [
       "<Figure size 432x288 with 1 Axes>"
      ]
     },
     "metadata": {
      "needs_background": "light"
     },
     "output_type": "display_data"
    }
   ],
   "source": [
    "traffic_incident.groupby('Month').count()['OFFENSE_CODE'].plot(kind='bar',title='Traffic Incident Per Month')\n",
    "plt.show()"
   ]
  },
  {
   "cell_type": "code",
   "execution_count": 42,
   "metadata": {},
   "outputs": [
    {
     "data": {
      "image/png": "[encoded data removed]",
      "text/plain": [
       "<Figure size 432x288 with 1 Axes>"
      ]
     },
     "metadata": {
      "needs_background": "light"
     },
     "output_type": "display_data"
    }
   ],
   "source": [
    "traffic_incident.groupby('Day').count()['OFFENSE_CODE'].plot(kind='bar',title='Traffic Incident in a Month')\n",
    "plt.show()"
   ]
  },
  {
   "cell_type": "code",
   "execution_count": 44,
   "metadata": {},
   "outputs": [
    {
     "data": {
      "image/png": "[encoded data removed]",
      "text/plain": [
       "<Figure size 432x288 with 1 Axes>"
      ]
     },
     "metadata": {
      "needs_background": "light"
     },
     "output_type": "display_data"
    }
   ],
   "source": [
    "df['Y'] = df.FIRST_OCCURRENCE_DATE.dt.year\n",
    "df.groupby('Y').count()['OFFENSE_CODE'].plot(kind='bar', title='Crimes Per Year')\n",
    "plt.show()"
   ]
  },
  {
   "cell_type": "code",
   "execution_count": 45,
   "metadata": {},
   "outputs": [
    {
     "name": "stdout",
     "output_type": "stream",
     "text": [
      "<class 'pandas.core.frame.DataFrame'>\n",
      "RangeIndex: 507443 entries, 0 to 507442\n",
      "Data columns (total 14 columns):\n",
      "OFFENSE_CODE              507443 non-null int64\n",
      "OFFENSE_CODE_EXTENSION    507443 non-null int64\n",
      "OFFENSE_TYPE_ID           507443 non-null object\n",
      "OFFENSE_CATEGORY_ID       507443 non-null object\n",
      "FIRST_OCCURRENCE_DATE     507443 non-null datetime64[ns]\n",
      "LAST_OCCURRENCE_DATE      160658 non-null datetime64[ns]\n",
      "REPORTED_DATE             507443 non-null datetime64[ns]\n",
      "INCIDENT_ADDRESS          457870 non-null object\n",
      "GEO_LON                   503263 non-null float64\n",
      "GEO_LAT                   503263 non-null float64\n",
      "DISTRICT_ID               507443 non-null int64\n",
      "IS_CRIME                  507443 non-null int64\n",
      "IS_TRAFFIC                507443 non-null int64\n",
      "Y                         507443 non-null int64\n",
      "dtypes: datetime64[ns](3), float64(2), int64(6), object(3)\n",
      "memory usage: 54.2+ MB\n"
     ]
    }
   ],
   "source": [
    "df.info()"
   ]
  },
  {
   "cell_type": "code",
   "execution_count": 46,
   "metadata": {},
   "outputs": [
    {
     "data": {
      "image/png": "[encoded data removed]",
      "text/plain": [
       "<Figure size 360x360 with 1 Axes>"
      ]
     },
     "metadata": {
      "needs_background": "light"
     },
     "output_type": "display_data"
    }
   ],
   "source": [
    "#Most crime in a each district\n",
    "fig = sns.catplot(x='DISTRICT_ID',kind='count',data=df[df.IS_CRIME == 1])"
   ]
  },
  {
   "cell_type": "code",
   "execution_count": 47,
   "metadata": {},
   "outputs": [
    {
     "data": {
      "text/plain": [
       "<seaborn.axisgrid.FacetGrid at 0x1f9d344ab70>"
      ]
     },
     "execution_count": 47,
     "metadata": {},
     "output_type": "execute_result"
    },
    {
     "data": {
      "image/png": "[encoded data removed]",
      "text/plain": [
       "<Figure size 360x360 with 1 Axes>"
      ]
     },
     "metadata": {
      "needs_background": "light"
     },
     "output_type": "display_data"
    }
   ],
   "source": [
    "most_dangerous_district = df[df.DISTRICT_ID == 6]\n",
    "sns.catplot(y='OFFENSE_CATEGORY_ID',kind='count',data = most_dangerous_district)"
   ]
  },
  {
   "cell_type": "code",
   "execution_count": 74,
   "metadata": {},
   "outputs": [
    {
     "ename": "TypeError",
     "evalue": "'numpy.dtype' object is not callable",
     "output_type": "error",
     "traceback": [
      "\u001b[1;31m---------------------------------------------------------------------------\u001b[0m",
      "\u001b[1;31mTypeError\u001b[0m                                 Traceback (most recent call last)",
      "\u001b[1;32m<ipython-input-74-aa4d93664c20>\u001b[0m in \u001b[0;36m<module>\u001b[1;34m\u001b[0m\n\u001b[0;32m      3\u001b[0m \u001b[0md\u001b[0m \u001b[1;33m=\u001b[0m \u001b[0mMost_crime_in_MDD\u001b[0m\u001b[1;33m.\u001b[0m\u001b[0mOFFENSE_TYPE_ID\u001b[0m\u001b[1;33m.\u001b[0m\u001b[0mvalue_counts\u001b[0m\u001b[1;33m(\u001b[0m\u001b[1;33m)\u001b[0m\u001b[1;33m[\u001b[0m\u001b[1;33m:\u001b[0m\u001b[1;36m5\u001b[0m\u001b[1;33m]\u001b[0m\u001b[1;33m\u001b[0m\u001b[1;33m\u001b[0m\u001b[0m\n\u001b[0;32m      4\u001b[0m \u001b[1;33m\u001b[0m\u001b[0m\n\u001b[1;32m----> 5\u001b[1;33m \u001b[0md\u001b[0m\u001b[1;33m.\u001b[0m\u001b[0mdtypes\u001b[0m\u001b[1;33m(\u001b[0m\u001b[1;33m)\u001b[0m\u001b[1;33m\u001b[0m\u001b[1;33m\u001b[0m\u001b[0m\n\u001b[0m",
      "\u001b[1;31mTypeError\u001b[0m: 'numpy.dtype' object is not callable"
     ]
    }
   ],
   "source": [
    "Most_crime_in_MDD = most_dangerous_district[most_dangerous_district.OFFENSE_CATEGORY_ID == 'all-other-crimes']\n",
    "\n",
    "d = Most_crime_in_MDD.OFFENSE_TYPE_ID.value_counts()[:5]\n",
    "\n",
    "d.dtypes()"
   ]
  },
  {
   "cell_type": "code",
   "execution_count": 48,
   "metadata": {},
   "outputs": [
    {
     "data": {
      "text/plain": [
       "<seaborn.axisgrid.FacetGrid at 0x1f9d344a860>"
      ]
     },
     "execution_count": 48,
     "metadata": {},
     "output_type": "execute_result"
    },
    {
     "data": {
      "image/png": "[encoded data removed]",
      "text/plain": [
       "<Figure size 360x360 with 1 Axes>"
      ]
     },
     "metadata": {
      "needs_background": "light"
     },
     "output_type": "display_data"
    }
   ],
   "source": [
    "Most_crime_in_MDD = most_dangerous_district[most_dangerous_district.OFFENSE_CATEGORY_ID == 'all-other-crimes']\n",
    "\n",
    "sns.catplot(y='OFFENSE_TYPE_ID',kind='count',data = Most_crime_in_MDD)"
   ]
  },
  {
   "cell_type": "code",
   "execution_count": 49,
   "metadata": {},
   "outputs": [],
   "source": [
    "df.rename({'Y':'Year'},inplace=True)"
   ]
  },
  {
   "cell_type": "code",
   "execution_count": 50,
   "metadata": {},
   "outputs": [],
   "source": [
    "df=df.drop('LAST_OCCURRENCE_DATE',axis=1)"
   ]
  },
  {
   "cell_type": "code",
   "execution_count": 51,
   "metadata": {},
   "outputs": [
    {
     "data": {
      "text/html": [
       "<div>\n",
       "<style scoped>\n",
       "    .dataframe tbody tr th:only-of-type {\n",
       "        vertical-align: middle;\n",
       "    }\n",
       "\n",
       "    .dataframe tbody tr th {\n",
       "        vertical-align: top;\n",
       "    }\n",
       "\n",
       "    .dataframe thead th {\n",
       "        text-align: right;\n",
       "    }\n",
       "</style>\n",
       "<table border=\"1\" class=\"dataframe\">\n",
       "  <thead>\n",
       "    <tr style=\"text-align: right;\">\n",
       "      <th></th>\n",
       "      <th>OFFENSE_CODE</th>\n",
       "      <th>OFFENSE_CODE_EXTENSION</th>\n",
       "      <th>OFFENSE_TYPE_ID</th>\n",
       "      <th>OFFENSE_CATEGORY_ID</th>\n",
       "      <th>FIRST_OCCURRENCE_DATE</th>\n",
       "      <th>REPORTED_DATE</th>\n",
       "      <th>INCIDENT_ADDRESS</th>\n",
       "      <th>GEO_LON</th>\n",
       "      <th>GEO_LAT</th>\n",
       "      <th>DISTRICT_ID</th>\n",
       "      <th>IS_CRIME</th>\n",
       "      <th>IS_TRAFFIC</th>\n",
       "      <th>Y</th>\n",
       "    </tr>\n",
       "  </thead>\n",
       "  <tbody>\n",
       "    <tr>\n",
       "      <th>507438</th>\n",
       "      <td>5499</td>\n",
       "      <td>0</td>\n",
       "      <td>traf-other</td>\n",
       "      <td>all-other-crimes</td>\n",
       "      <td>2018-12-11 18:06:00</td>\n",
       "      <td>2018-12-11 18:22:00</td>\n",
       "      <td>3300 BLOCK E COLFAX AVE</td>\n",
       "      <td>-104.948043</td>\n",
       "      <td>39.739862</td>\n",
       "      <td>2</td>\n",
       "      <td>1</td>\n",
       "      <td>0</td>\n",
       "      <td>2018</td>\n",
       "    </tr>\n",
       "    <tr>\n",
       "      <th>507439</th>\n",
       "      <td>2602</td>\n",
       "      <td>1</td>\n",
       "      <td>theft-fail-return-rent-veh</td>\n",
       "      <td>white-collar-crime</td>\n",
       "      <td>2018-11-19 16:00:00</td>\n",
       "      <td>2018-12-14 15:56:00</td>\n",
       "      <td>24890 E 78TH AVE</td>\n",
       "      <td>-104.697230</td>\n",
       "      <td>39.836210</td>\n",
       "      <td>7</td>\n",
       "      <td>1</td>\n",
       "      <td>0</td>\n",
       "      <td>2018</td>\n",
       "    </tr>\n",
       "    <tr>\n",
       "      <th>507440</th>\n",
       "      <td>5441</td>\n",
       "      <td>0</td>\n",
       "      <td>traffic-accident</td>\n",
       "      <td>traffic-accident</td>\n",
       "      <td>2018-12-16 17:37:00</td>\n",
       "      <td>2018-12-16 18:43:00</td>\n",
       "      <td>E IOWA AVE / S COLORADO BLVD</td>\n",
       "      <td>-104.940655</td>\n",
       "      <td>39.687491</td>\n",
       "      <td>3</td>\n",
       "      <td>0</td>\n",
       "      <td>1</td>\n",
       "      <td>2018</td>\n",
       "    </tr>\n",
       "    <tr>\n",
       "      <th>507441</th>\n",
       "      <td>5499</td>\n",
       "      <td>0</td>\n",
       "      <td>traf-other</td>\n",
       "      <td>all-other-crimes</td>\n",
       "      <td>2018-12-09 05:21:00</td>\n",
       "      <td>2018-12-09 06:15:00</td>\n",
       "      <td>1400 BLOCK N IRVING ST</td>\n",
       "      <td>-105.029758</td>\n",
       "      <td>39.738855</td>\n",
       "      <td>1</td>\n",
       "      <td>1</td>\n",
       "      <td>0</td>\n",
       "      <td>2018</td>\n",
       "    </tr>\n",
       "    <tr>\n",
       "      <th>507442</th>\n",
       "      <td>2304</td>\n",
       "      <td>0</td>\n",
       "      <td>theft-parts-from-vehicle</td>\n",
       "      <td>theft-from-motor-vehicle</td>\n",
       "      <td>2018-12-12 16:35:00</td>\n",
       "      <td>2018-12-12 16:42:00</td>\n",
       "      <td>4300 E EVANS AVE</td>\n",
       "      <td>-104.937077</td>\n",
       "      <td>39.678211</td>\n",
       "      <td>3</td>\n",
       "      <td>1</td>\n",
       "      <td>0</td>\n",
       "      <td>2018</td>\n",
       "    </tr>\n",
       "  </tbody>\n",
       "</table>\n",
       "</div>"
      ],
      "text/plain": [
       "        OFFENSE_CODE  OFFENSE_CODE_EXTENSION             OFFENSE_TYPE_ID  \\\n",
       "507438          5499                       0                  traf-other   \n",
       "507439          2602                       1  theft-fail-return-rent-veh   \n",
       "507440          5441                       0            traffic-accident   \n",
       "507441          5499                       0                  traf-other   \n",
       "507442          2304                       0    theft-parts-from-vehicle   \n",
       "\n",
       "             OFFENSE_CATEGORY_ID FIRST_OCCURRENCE_DATE       REPORTED_DATE  \\\n",
       "507438          all-other-crimes   2018-12-11 18:06:00 2018-12-11 18:22:00   \n",
       "507439        white-collar-crime   2018-11-19 16:00:00 2018-12-14 15:56:00   \n",
       "507440          traffic-accident   2018-12-16 17:37:00 2018-12-16 18:43:00   \n",
       "507441          all-other-crimes   2018-12-09 05:21:00 2018-12-09 06:15:00   \n",
       "507442  theft-from-motor-vehicle   2018-12-12 16:35:00 2018-12-12 16:42:00   \n",
       "\n",
       "                    INCIDENT_ADDRESS     GEO_LON    GEO_LAT  DISTRICT_ID  \\\n",
       "507438       3300 BLOCK E COLFAX AVE -104.948043  39.739862            2   \n",
       "507439              24890 E 78TH AVE -104.697230  39.836210            7   \n",
       "507440  E IOWA AVE / S COLORADO BLVD -104.940655  39.687491            3   \n",
       "507441        1400 BLOCK N IRVING ST -105.029758  39.738855            1   \n",
       "507442              4300 E EVANS AVE -104.937077  39.678211            3   \n",
       "\n",
       "        IS_CRIME  IS_TRAFFIC     Y  \n",
       "507438         1           0  2018  \n",
       "507439         1           0  2018  \n",
       "507440         0           1  2018  \n",
       "507441         1           0  2018  \n",
       "507442         1           0  2018  "
      ]
     },
     "execution_count": 51,
     "metadata": {},
     "output_type": "execute_result"
    }
   ],
   "source": [
    "df.tail()"
   ]
  },
  {
   "cell_type": "code",
   "execution_count": 57,
   "metadata": {},
   "outputs": [
    {
     "data": {
      "text/html": [
       "<div>\n",
       "<style scoped>\n",
       "    .dataframe tbody tr th:only-of-type {\n",
       "        vertical-align: middle;\n",
       "    }\n",
       "\n",
       "    .dataframe tbody tr th {\n",
       "        vertical-align: top;\n",
       "    }\n",
       "\n",
       "    .dataframe thead th {\n",
       "        text-align: right;\n",
       "    }\n",
       "</style>\n",
       "<table border=\"1\" class=\"dataframe\">\n",
       "  <thead>\n",
       "    <tr style=\"text-align: right;\">\n",
       "      <th></th>\n",
       "      <th>OFFENSE_CODE</th>\n",
       "      <th>OFFENSE_CODE_EXTENSION</th>\n",
       "      <th>OFFENSE_TYPE_ID</th>\n",
       "      <th>OFFENSE_CATEGORY_ID</th>\n",
       "      <th>FIRST_OCCURRENCE_DATE</th>\n",
       "      <th>REPORTED_DATE</th>\n",
       "      <th>INCIDENT_ADDRESS</th>\n",
       "      <th>GEO_LON</th>\n",
       "      <th>GEO_LAT</th>\n",
       "      <th>DISTRICT_ID</th>\n",
       "      <th>IS_CRIME</th>\n",
       "      <th>IS_TRAFFIC</th>\n",
       "      <th>Y</th>\n",
       "    </tr>\n",
       "  </thead>\n",
       "  <tbody>\n",
       "    <tr>\n",
       "      <th>0</th>\n",
       "      <td>5213</td>\n",
       "      <td>0</td>\n",
       "      <td>weapon-unlawful-discharge-of</td>\n",
       "      <td>all-other-crimes</td>\n",
       "      <td>2016-06-15 23:31:00</td>\n",
       "      <td>2016-06-15 23:31:00</td>\n",
       "      <td>NaN</td>\n",
       "      <td>-104.809881</td>\n",
       "      <td>39.773188</td>\n",
       "      <td>5</td>\n",
       "      <td>1</td>\n",
       "      <td>0</td>\n",
       "      <td>2016</td>\n",
       "    </tr>\n",
       "    <tr>\n",
       "      <th>5</th>\n",
       "      <td>5499</td>\n",
       "      <td>0</td>\n",
       "      <td>traf-other</td>\n",
       "      <td>all-other-crimes</td>\n",
       "      <td>2018-01-31 00:44:00</td>\n",
       "      <td>2018-01-31 01:29:00</td>\n",
       "      <td>2100 BLOCK E 17TH AVE</td>\n",
       "      <td>-104.961928</td>\n",
       "      <td>39.743149</td>\n",
       "      <td>6</td>\n",
       "      <td>1</td>\n",
       "      <td>0</td>\n",
       "      <td>2018</td>\n",
       "    </tr>\n",
       "  </tbody>\n",
       "</table>\n",
       "</div>"
      ],
      "text/plain": [
       "   OFFENSE_CODE  OFFENSE_CODE_EXTENSION               OFFENSE_TYPE_ID  \\\n",
       "0          5213                       0  weapon-unlawful-discharge-of   \n",
       "5          5499                       0                    traf-other   \n",
       "\n",
       "  OFFENSE_CATEGORY_ID FIRST_OCCURRENCE_DATE       REPORTED_DATE  \\\n",
       "0    all-other-crimes   2016-06-15 23:31:00 2016-06-15 23:31:00   \n",
       "5    all-other-crimes   2018-01-31 00:44:00 2018-01-31 01:29:00   \n",
       "\n",
       "        INCIDENT_ADDRESS     GEO_LON    GEO_LAT  DISTRICT_ID  IS_CRIME  \\\n",
       "0                    NaN -104.809881  39.773188            5         1   \n",
       "5  2100 BLOCK E 17TH AVE -104.961928  39.743149            6         1   \n",
       "\n",
       "   IS_TRAFFIC     Y  \n",
       "0           0  2016  \n",
       "5           0  2018  "
      ]
     },
     "execution_count": 57,
     "metadata": {},
     "output_type": "execute_result"
    }
   ],
   "source": [
    "all_other_crimes = df.loc[df.OFFENSE_CATEGORY_ID == 'all-other-crimes']\n",
    "all_other_crimes.head(2)"
   ]
  },
  {
   "cell_type": "code",
   "execution_count": 58,
   "metadata": {},
   "outputs": [
    {
     "data": {
      "text/html": [
       "<div>\n",
       "<style scoped>\n",
       "    .dataframe tbody tr th:only-of-type {\n",
       "        vertical-align: middle;\n",
       "    }\n",
       "\n",
       "    .dataframe tbody tr th {\n",
       "        vertical-align: top;\n",
       "    }\n",
       "\n",
       "    .dataframe thead th {\n",
       "        text-align: right;\n",
       "    }\n",
       "</style>\n",
       "<table border=\"1\" class=\"dataframe\">\n",
       "  <thead>\n",
       "    <tr style=\"text-align: right;\">\n",
       "      <th></th>\n",
       "      <th>OFFENSE_CODE</th>\n",
       "      <th>OFFENSE_CODE_EXTENSION</th>\n",
       "      <th>OFFENSE_TYPE_ID</th>\n",
       "      <th>OFFENSE_CATEGORY_ID</th>\n",
       "      <th>FIRST_OCCURRENCE_DATE</th>\n",
       "      <th>REPORTED_DATE</th>\n",
       "      <th>INCIDENT_ADDRESS</th>\n",
       "      <th>GEO_LON</th>\n",
       "      <th>GEO_LAT</th>\n",
       "      <th>DISTRICT_ID</th>\n",
       "      <th>IS_CRIME</th>\n",
       "      <th>IS_TRAFFIC</th>\n",
       "      <th>Y</th>\n",
       "    </tr>\n",
       "  </thead>\n",
       "  <tbody>\n",
       "    <tr>\n",
       "      <th>0</th>\n",
       "      <td>5213</td>\n",
       "      <td>0</td>\n",
       "      <td>weapon-unlawful-discharge-of</td>\n",
       "      <td>all-other-crimes</td>\n",
       "      <td>2016-06-15 23:31:00</td>\n",
       "      <td>2016-06-15 23:31:00</td>\n",
       "      <td>NaN</td>\n",
       "      <td>-104.809881</td>\n",
       "      <td>39.773188</td>\n",
       "      <td>5</td>\n",
       "      <td>1</td>\n",
       "      <td>0</td>\n",
       "      <td>2016</td>\n",
       "    </tr>\n",
       "    <tr>\n",
       "      <th>5</th>\n",
       "      <td>5499</td>\n",
       "      <td>0</td>\n",
       "      <td>traf-other</td>\n",
       "      <td>all-other-crimes</td>\n",
       "      <td>2018-01-31 00:44:00</td>\n",
       "      <td>2018-01-31 01:29:00</td>\n",
       "      <td>2100 BLOCK E 17TH AVE</td>\n",
       "      <td>-104.961928</td>\n",
       "      <td>39.743149</td>\n",
       "      <td>6</td>\n",
       "      <td>1</td>\n",
       "      <td>0</td>\n",
       "      <td>2018</td>\n",
       "    </tr>\n",
       "  </tbody>\n",
       "</table>\n",
       "</div>"
      ],
      "text/plain": [
       "   OFFENSE_CODE  OFFENSE_CODE_EXTENSION               OFFENSE_TYPE_ID  \\\n",
       "0          5213                       0  weapon-unlawful-discharge-of   \n",
       "5          5499                       0                    traf-other   \n",
       "\n",
       "  OFFENSE_CATEGORY_ID FIRST_OCCURRENCE_DATE       REPORTED_DATE  \\\n",
       "0    all-other-crimes   2016-06-15 23:31:00 2016-06-15 23:31:00   \n",
       "5    all-other-crimes   2018-01-31 00:44:00 2018-01-31 01:29:00   \n",
       "\n",
       "        INCIDENT_ADDRESS     GEO_LON    GEO_LAT  DISTRICT_ID  IS_CRIME  \\\n",
       "0                    NaN -104.809881  39.773188            5         1   \n",
       "5  2100 BLOCK E 17TH AVE -104.961928  39.743149            6         1   \n",
       "\n",
       "   IS_TRAFFIC     Y  \n",
       "0           0  2016  \n",
       "5           0  2018  "
      ]
     },
     "execution_count": 58,
     "metadata": {},
     "output_type": "execute_result"
    }
   ],
   "source": [
    "all_other_crimes.head(2)"
   ]
  },
  {
   "cell_type": "code",
   "execution_count": 60,
   "metadata": {},
   "outputs": [
    {
     "data": {
      "text/plain": [
       "<seaborn.axisgrid.FacetGrid at 0x1f9e274cbe0>"
      ]
     },
     "execution_count": 60,
     "metadata": {},
     "output_type": "execute_result"
    },
    {
     "data": {
      "image/png": "[encoded data removed]",
      "text/plain": [
       "<Figure size 360x360 with 1 Axes>"
      ]
     },
     "metadata": {
      "needs_background": "light"
     },
     "output_type": "display_data"
    }
   ],
   "source": [
    "sns.catplot(y='OFFENSE_TYPE_ID',kind='count',data=all_other_crimes)"
   ]
  },
  {
   "cell_type": "code",
   "execution_count": null,
   "metadata": {},
   "outputs": [],
   "source": []
  }
 ],
 "metadata": {
  "kernelspec": {
   "display_name": "Python 3",
   "language": "python",
   "name": "python3"
  },
  "language_info": {
   "codemirror_mode": {
    "name": "ipython",
    "version": 3
   },
   "file_extension": ".py",
   "mimetype": "text/x-python",
   "name": "python",
   "nbconvert_exporter": "python",
   "pygments_lexer": "ipython3",
   "version": "3.7.4"
  }
 },
 "nbformat": 4,
 "nbformat_minor": 2
}
